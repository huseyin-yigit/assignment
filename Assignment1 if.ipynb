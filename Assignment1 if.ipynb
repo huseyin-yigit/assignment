{
 "cells": [
  {
   "cell_type": "code",
   "execution_count": 3,
   "metadata": {},
   "outputs": [
    {
     "output_type": "stream",
     "name": "stdout",
     "text": "Hello Huseyin! The password is: @12\n"
    }
   ],
   "source": [
    "name= input(\"Please enter your name: \")\n",
    "my_name = \"huseyin\"\n",
    "if name.lower() == my_name:\n",
    "    print(f' Hello {name}! The password is: @12')\n",
    "else:\n",
    "    print(f' Hello, {name}! See you later.')\n"
   ]
  },
  {
   "cell_type": "code",
   "execution_count": null,
   "metadata": {},
   "outputs": [],
   "source": []
  }
 ],
 "metadata": {
  "language_info": {
   "codemirror_mode": {
    "name": "ipython",
    "version": 3
   },
   "file_extension": ".py",
   "mimetype": "text/x-python",
   "name": "python",
   "nbconvert_exporter": "python",
   "pygments_lexer": "ipython3",
   "version": "3.8.2-final"
  },
  "orig_nbformat": 2,
  "kernelspec": {
   "name": "python38232bit3a245fd3adc94337aab31b5d66b63b5e",
   "display_name": "Python 3.8.2 32-bit"
  }
 },
 "nbformat": 4,
 "nbformat_minor": 2
}