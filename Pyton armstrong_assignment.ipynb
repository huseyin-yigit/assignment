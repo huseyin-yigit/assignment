{
 "cells": [
  {
   "cell_type": "code",
   "execution_count": 7,
   "metadata": {},
   "outputs": [
    {
     "output_type": "stream",
     "name": "stdout",
     "text": "is an valid entry. Dd not use non- numeric, float or negative number.\n is an valid entry. Dd not use non- numeric, float or negative number.\n is an valid entry. Dd not use non- numeric, float or negative number.\n is an valid entry. Dd not use non- numeric, float or negative number.\n is an valid entry. Dd not use non- numeric, float or negative number.\n is an valid entry. Dd not use non- numeric, float or negative number.\n123 is not an Armstrong number. \n"
    }
   ],
   "source": [
    "while True:\n",
    "  \n",
    "  number = input(\"enter a positive number :\")\n",
    "  digits = len(number)\n",
    "  summ = 0\n",
    "  if not number.isdigit():\n",
    "      print(number, \"is an valid entry. Dd not use non- numeric, float or negative number.\")\n",
    "\n",
    "  else:\n",
    "      for i in range(digits): # 0,1,2,3\n",
    "          summ += summ + int(number[i])**digits\n",
    "\n",
    "      if summ == int(number):\n",
    "          print(number, \"is an Armstrong number.\")\n",
    "          break\n",
    "      else:\n",
    "          print(number, \"is not an Armstrong number. \")\n",
    "          break\n"
   ]
  },
  {
   "cell_type": "code",
   "execution_count": null,
   "metadata": {},
   "outputs": [],
   "source": []
  },
  {
   "cell_type": "code",
   "execution_count": null,
   "metadata": {},
   "outputs": [],
   "source": []
  },
  {
   "cell_type": "code",
   "execution_count": null,
   "metadata": {},
   "outputs": [],
   "source": []
  }
 ],
 "metadata": {
  "language_info": {
   "codemirror_mode": {
    "name": "ipython",
    "version": 3
   },
   "file_extension": ".py",
   "mimetype": "text/x-python",
   "name": "python",
   "nbconvert_exporter": "python",
   "pygments_lexer": "ipython3",
   "version": "3.8.2-final"
  },
  "orig_nbformat": 2,
  "kernelspec": {
   "name": "python38232bit3a245fd3adc94337aab31b5d66b63b5e",
   "display_name": "Python 3.8.2 32-bit"
  }
 },
 "nbformat": 4,
 "nbformat_minor": 2
}